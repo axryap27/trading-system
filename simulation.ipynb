{
 "cells": [
  {
   "cell_type": "markdown",
   "metadata": {},
   "source": [
    "This notebook demonstrates a complete trading system with:\n",
    " - Multi-asset market data loading\n",
    " - Order management system (OMS)\n",
    " - Limit order book matching engine\n",
    " - Position tracking and P&L calculation\n",
    " - Three trading strategies: trend-following, mean reversion, and arbitrage\n",
    " \n",
    " ## System Architecture\n",
    " \n",
    " ```\n",
    " MarketDataLoader → Strategy → OMS → OrderBook → PositionTracker\n",
    "                      ↓              ↓           ↓\n",
    "                   Signals      ExecutionReports  P&L\n",
    " ```"
   ]
  },
  {
   "cell_type": "code",
   "execution_count": null,
   "metadata": {},
   "outputs": [],
   "source": [
    "# %%\n",
    "# Imports and Setup\n",
    "import pandas as pd\n",
    "import numpy as np\n",
    "import matplotlib.pyplot as plt\n",
    "%pip install seaborn\n",
    "import seaborn as sns\n",
    "from datetime import datetime, timedelta\n",
    "import warnings\n",
    "warnings.filterwarnings('ignore')\n",
    "\n",
    "# Our trading system components\n",
    "from market_data_loader import MarketDataLoader\n",
    "from order import Order\n",
    "from oms import OrderManagementSystem\n",
    "from order_book import LimitOrderBook\n",
    "from position_tracker import PositionTracker\n",
    "\n",
    "# Trading strategies\n",
    "from strategies.trend_following import run_backtest as tf_backtest\n",
    "from strategies.mean_reversion import run_backtest as mr_backtest\n",
    "from strategies.arbitrage import run_backtest as arb_backtest\n",
    "\n",
    "# Configure plotting\n",
    "plt.style.use('seaborn-v0_8')\n",
    "sns.set_palette(\"husl\")\n",
    "plt.rcParams['figure.figsize'] = (12, 8)"
   ]
  },
  {
   "cell_type": "code",
   "execution_count": null,
   "metadata": {},
   "outputs": [],
   "source": [
    "# Fetch data for multiple assets\n",
    "symbols = [\"AAPL\", \"MSFT\", \"GOOGL\", \"SPY\", \"QQQ\"]\n",
    "data = {}\n",
    "\n",
    "print(\"📊 Fetching market data...\")\n",
    "for symbol in symbols:\n",
    "    try:\n",
    "        hist = loader.get_history(symbol)\n",
    "        data[symbol] = hist\n",
    "        print(f\"✅ {symbol}: {len(hist)} days, ${hist['last_price'].iloc[-1]:.2f}\")\n",
    "    except Exception as e:\n",
    "        print(f\"❌ {symbol}: {e}\")\n",
    "\n",
    "# Show sample data\n",
    "if \"AAPL\" in data:\n",
    "    print(\"\\n📈 Sample AAPL data:\")\n",
    "    print(data[\"AAPL\"].head())"
   ]
  },
  {
   "cell_type": "code",
   "execution_count": null,
   "metadata": {},
   "outputs": [],
   "source": [
    "# Demonstrate core trading infrastructure\n",
    "print(\"🔧 Testing Trading Infrastructure...\")\n",
    "\n",
    "# Initialize components\n",
    "oms = OrderManagementSystem()\n",
    "book = LimitOrderBook(\"DEMO\")\n",
    "tracker = PositionTracker(starting_cash=100000)\n",
    "\n",
    "# Create sample orders\n",
    "orders = [\n",
    "    Order(\"BUY1\", \"DEMO\", \"buy\", 100, \"limit\", 150.0),\n",
    "    Order(\"SELL1\", \"DEMO\", \"sell\", 50, \"limit\", 149.0),  # Should match\n",
    "    Order(\"BUY2\", \"DEMO\", \"buy\", 200, \"market\")  # Market order\n",
    "]\n",
    "\n",
    "print(\"\\n📋 Order Management System Test:\")\n",
    "for order in orders:\n",
    "    try:\n",
    "        # Submit to OMS\n",
    "        ack = oms.new_order(order)\n",
    "        print(f\"✅ {order}: {ack['status']}\")\n",
    "        \n",
    "        # Route to order book\n",
    "        reports = book.add_order(order)\n",
    "        print(f\"   💱 Generated {len(reports)} execution reports\")\n",
    "        \n",
    "        # Update position tracker\n",
    "        for report in reports:\n",
    "            tracker.update(report)\n",
    "            \n",
    "    except Exception as e:\n",
    "        print(f\"❌ {order}: {e}\")\n",
    "\n",
    "# Show final state\n",
    "print(f\"\\n💰 Final Portfolio:\")\n",
    "print(f\"   Cash: ${tracker.cash:,.2f}\")\n",
    "print(f\"   Positions: {tracker.positions}\")\n",
    "print(f\"   Book State: {book}\")"
   ]
  },
  {
   "cell_type": "code",
   "execution_count": null,
   "metadata": {},
   "outputs": [],
   "source": []
  }
 ],
 "metadata": {
  "kernelspec": {
   "display_name": "Python 3",
   "language": "python",
   "name": "python3"
  },
  "language_info": {
   "codemirror_mode": {
    "name": "ipython",
    "version": 3
   },
   "file_extension": ".py",
   "mimetype": "text/x-python",
   "name": "python",
   "nbconvert_exporter": "python",
   "pygments_lexer": "ipython3",
   "version": "3.11.2"
  }
 },
 "nbformat": 4,
 "nbformat_minor": 2
}
